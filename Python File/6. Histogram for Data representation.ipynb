{
 "cells": [
  {
   "cell_type": "code",
   "execution_count": null,
   "metadata": {
    "executionInfo": {
     "elapsed": 4,
     "status": "ok",
     "timestamp": 1714164903343,
     "user": {
      "displayName": "Avan KUMAR",
      "userId": "07376209841163567833"
     },
     "user_tz": 420
    },
    "id": "kILrXDAeaowj"
   },
   "outputs": [],
   "source": [
    "import pandas as pd\n",
    "import numpy as np\n",
    "import os\n",
    "import matplotlib.pyplot as plt"
   ]
  },
  {
   "cell_type": "code",
   "execution_count": null,
   "metadata": {
    "colab": {
     "base_uri": "https://localhost:8080/",
     "height": 224
    },
    "executionInfo": {
     "elapsed": 4536,
     "status": "ok",
     "timestamp": 1714165081313,
     "user": {
      "displayName": "Avan KUMAR",
      "userId": "07376209841163567833"
     },
     "user_tz": 420
    },
    "id": "rnxpNEona8pG",
    "outputId": "b81546e1-0306-4661-dac5-6d0887d074af"
   },
   "outputs": [],
   "source": [
    "df = pd.read_csv(\"Enter your file address\")\n",
    "print(df.shape)\n",
    "df.head()"
   ]
  },
  {
   "cell_type": "code",
   "execution_count": null,
   "metadata": {
    "colab": {
     "base_uri": "https://localhost:8080/",
     "height": 224
    },
    "executionInfo": {
     "elapsed": 627,
     "status": "ok",
     "timestamp": 1714165097790,
     "user": {
      "displayName": "Avan KUMAR",
      "userId": "07376209841163567833"
     },
     "user_tz": 420
    },
    "id": "XndUTIatcFoC",
    "outputId": "85d5f0e6-2295-4f9d-a64f-ef9d84805b63"
   },
   "outputs": [],
   "source": [
    "df = df.drop_duplicates().reset_index(drop=True)\n",
    "df = df.dropna().reset_index(drop=True)\n",
    "print(df.shape)\n",
    "df.head()"
   ]
  },
  {
   "cell_type": "code",
   "execution_count": null,
   "metadata": {
    "executionInfo": {
     "elapsed": 1244,
     "status": "ok",
     "timestamp": 1714165104713,
     "user": {
      "displayName": "Avan KUMAR",
      "userId": "07376209841163567833"
     },
     "user_tz": 420
    },
    "id": "9E2z4zu0cBNy"
   },
   "outputs": [],
   "source": [
    "date = []\n",
    "for i in range(len(df)):\n",
    "    date.append(int(df.Date[i][-4:]))\n",
    "\n",
    "PUSHILSER = []\n",
    "for i in range(len(df)):\n",
    "    PUSHILSER.append(df.Journal[i])"
   ]
  },
  {
   "cell_type": "code",
   "execution_count": null,
   "metadata": {
    "executionInfo": {
     "elapsed": 3,
     "status": "ok",
     "timestamp": 1714165107560,
     "user": {
      "displayName": "Avan KUMAR",
      "userId": "07376209841163567833"
     },
     "user_tz": 420
    },
    "id": "K0dMXd6gdP4O"
   },
   "outputs": [],
   "source": [
    "# pd.Series(date).value_counts()\n",
    "from collections import defaultdict\n",
    "\n",
    "def frequencies(lst):\n",
    "    freq = defaultdict(int)\n",
    "    for val in lst:\n",
    "        freq[val] += 1\n",
    "    return dict(freq)\n",
    "\n",
    "date_dict = frequencies(date)\n",
    "pubshi_dict =frequencies(PUSHILSER)"
   ]
  },
  {
   "cell_type": "code",
   "execution_count": null,
   "metadata": {
    "executionInfo": {
     "elapsed": 613,
     "status": "ok",
     "timestamp": 1714165110270,
     "user": {
      "displayName": "Avan KUMAR",
      "userId": "07376209841163567833"
     },
     "user_tz": 420
    },
    "id": "nV5_QewvdScm"
   },
   "outputs": [],
   "source": [
    "import operator\n",
    "# sorted_date = dict( sorted(date_dict.items(), key=operator.itemgetter(1),reverse=True))\n",
    "\n",
    "sorted_pub = dict( sorted(pubshi_dict.items(), key=operator.itemgetter(1),reverse=True))"
   ]
  },
  {
   "cell_type": "code",
   "execution_count": null,
   "metadata": {
    "executionInfo": {
     "elapsed": 295,
     "status": "ok",
     "timestamp": 1714165112929,
     "user": {
      "displayName": "Avan KUMAR",
      "userId": "07376209841163567833"
     },
     "user_tz": 420
    },
    "id": "YTLTYnQSdVVW"
   },
   "outputs": [],
   "source": [
    "myKeys = list(date_dict.keys())\n",
    "myKeys.sort(reverse=True)\n",
    "sorted_date = {i: date_dict[i] for i in myKeys}"
   ]
  },
  {
   "cell_type": "code",
   "execution_count": null,
   "metadata": {
    "executionInfo": {
     "elapsed": 315,
     "status": "ok",
     "timestamp": 1714165114555,
     "user": {
      "displayName": "Avan KUMAR",
      "userId": "07376209841163567833"
     },
     "user_tz": 420
    },
    "id": "GSenrcGjdXtn"
   },
   "outputs": [],
   "source": [
    "years = []\n",
    "numbers = []\n",
    "\n",
    "for key, value in sorted_date.items():\n",
    "    years.append(key)\n",
    "    numbers.append(value)"
   ]
  },
  {
   "cell_type": "code",
   "execution_count": null,
   "metadata": {
    "colab": {
     "base_uri": "https://localhost:8080/"
    },
    "executionInfo": {
     "elapsed": 666,
     "status": "ok",
     "timestamp": 1714165116790,
     "user": {
      "displayName": "Avan KUMAR",
      "userId": "07376209841163567833"
     },
     "user_tz": 420
    },
    "id": "8Wj98XZGdZ-H",
    "outputId": "19ca1992-13c5-43b9-f62e-d1fb349c804a"
   },
   "outputs": [],
   "source": [
    "print(years[1:26])\n",
    "yearss = years[1:26]\n",
    "\n",
    "numberss = numbers[1:26]"
   ]
  },
  {
   "cell_type": "code",
   "execution_count": null,
   "metadata": {
    "executionInfo": {
     "elapsed": 287,
     "status": "ok",
     "timestamp": 1714165120440,
     "user": {
      "displayName": "Avan KUMAR",
      "userId": "07376209841163567833"
     },
     "user_tz": 420
    },
    "id": "oRmazEsfdcjW"
   },
   "outputs": [],
   "source": [
    "name_pub =[]\n",
    "countss =[]\n",
    "for key, value in sorted_pub.items():\n",
    "    name_pub.append(key)\n",
    "    countss.append(value)"
   ]
  },
  {
   "cell_type": "code",
   "execution_count": null,
   "metadata": {
    "colab": {
     "base_uri": "https://localhost:8080/",
     "height": 480
    },
    "executionInfo": {
     "elapsed": 1256,
     "status": "ok",
     "timestamp": 1714165163568,
     "user": {
      "displayName": "Avan KUMAR",
      "userId": "07376209841163567833"
     },
     "user_tz": 420
    },
    "id": "HH2OaaEQdea1",
    "outputId": "787aae92-1354-4c95-c6b7-fabbfc8c96d5"
   },
   "outputs": [],
   "source": [
    "import numpy as np\n",
    "import matplotlib.pyplot as plt\n",
    "#plt.bar(r1, bars1, color='red', width=barWidth,  label='Once-through reactor')\n",
    "plt.bar(yearss, numberss, color='green', label='Recycle reactor')\n",
    "#labels = numberss\n",
    "#plt.bar(r3, bars3, color='#2d7f5e', width=barWidth, edgecolor='white', label='var3')\n",
    "\n",
    "# Add xticks on the middle of the group bars\n",
    "plt.xlabel('Year', fontsize=16, fontweight='bold')\n",
    "plt.ylabel('Number of Publications', fontsize=16, fontweight='bold')\n",
    "#plt.xticks([r + barWidth for r in range(len(bars3))], bars3, rotation=90,fontsize=16,fontweight='bold')\n",
    "plt.yticks(fontsize=10,fontweight='bold')\n",
    "#plt.xticks(fontsize=10,fontweight='bold', rotation =90)\n",
    "\n",
    "plt.xticks(yearss, fontsize=10,fontweight='bold', rotation =90)\n",
    "# Create legend & Show graphic\n",
    "#plt.legend(framealpha=0.8, frameon=False,prop={\"size\":16,'weight':'bold'},bbox_to_anchor =(1.06, 1.1), ncol = 2)\n",
    "#plt.legend(loc=0,bbox_to_anchor =(0.5, 1.20), frameon=False)\n",
    "plt.savefig(r'number_paper_trend.pdf', dpi=5000,bbox_inches='tight')\n",
    "plt.show()"
   ]
  },
  {
   "cell_type": "code",
   "execution_count": null,
   "metadata": {
    "executionInfo": {
     "elapsed": 395,
     "status": "ok",
     "timestamp": 1714165172289,
     "user": {
      "displayName": "Avan KUMAR",
      "userId": "07376209841163567833"
     },
     "user_tz": 420
    },
    "id": "dlCQW-lxdh1G"
   },
   "outputs": [],
   "source": [
    "# name_pub, countss\n",
    "df = pd.DataFrame(\n",
    "   dict(\n",
    "      names=name_pub[:30],\n",
    "      marks=countss[:30]\n",
    "   )\n",
    ")\n",
    "df_sorted = df.sort_values('marks')\n",
    "\n",
    "# Total count name_pub, countss\n",
    "df = pd.DataFrame(\n",
    "   dict(\n",
    "      names=name_pub,\n",
    "      marks=countss\n",
    "   )\n",
    ")\n",
    "df_sorted_total = df.sort_values('marks')"
   ]
  },
  {
   "cell_type": "code",
   "execution_count": null,
   "metadata": {
    "colab": {
     "base_uri": "https://localhost:8080/"
    },
    "executionInfo": {
     "elapsed": 2,
     "status": "ok",
     "timestamp": 1714165173238,
     "user": {
      "displayName": "Avan KUMAR",
      "userId": "07376209841163567833"
     },
     "user_tz": 420
    },
    "id": "qUciaE9RdmrG",
    "outputId": "581f3c05-f14c-47b7-c584-220a72583561"
   },
   "outputs": [],
   "source": [
    "sum(list(df_sorted.marks))/sum(list(df_sorted_total.marks))"
   ]
  },
  {
   "cell_type": "code",
   "execution_count": null,
   "metadata": {
    "colab": {
     "base_uri": "https://localhost:8080/",
     "height": 811
    },
    "executionInfo": {
     "elapsed": 2040,
     "status": "ok",
     "timestamp": 1714165195012,
     "user": {
      "displayName": "Avan KUMAR",
      "userId": "07376209841163567833"
     },
     "user_tz": 420
    },
    "id": "kL6SX5Lsdo0m",
    "outputId": "610ab9dc-22b0-4167-b9f6-facb25c1ebb5"
   },
   "outputs": [],
   "source": [
    "import numpy as np\n",
    "import matplotlib.pyplot as plt\n",
    "plt.bar('names', 'marks', data=df_sorted, color='green', label='Recycle reactor')\n",
    "#labels = numberss\n",
    "#plt.bar(r3, bars3, color='#2d7f5e', width=barWidth, edgecolor='white', label='var3')\n",
    "\n",
    "# Add xticks on the middle of the group bars\n",
    "plt.xlabel('Name of Journal', fontsize=16, fontweight='bold')\n",
    "plt.ylabel('Number of Publications', fontsize=16, fontweight='bold')\n",
    "#plt.xticks([r + barWidth for r in range(len(bars3))], bars3, rotation=90,fontsize=16,fontweight='bold')\n",
    "plt.yticks(fontsize=10,fontweight='bold')\n",
    "#plt.xticks(fontsize=10,fontweight='bold', rotation =90)\n",
    "\n",
    "plt.xticks(fontsize=10,fontweight='bold', rotation =90)\n",
    "# Create legend & Show graphic\n",
    "#plt.legend(framealpha=0.8, frameon=False,prop={\"size\":16,'weight':'bold'},bbox_to_anchor =(1.06, 1.1), ncol = 2)\n",
    "#plt.legend(loc=0,bbox_to_anchor =(0.5, 1.20), frameon=False)\n",
    "plt.show()"
   ]
  },
  {
   "cell_type": "markdown",
   "metadata": {},
   "source": [
    "**#Code for Number of Publications per Year for Top 20 Journals**"
   ]
  },
  {
   "cell_type": "code",
   "execution_count": null,
   "metadata": {},
   "outputs": [],
   "source": [
    "import pandas as pd\n",
    "import matplotlib.pyplot as plt\n",
    "\n",
    "# Load the dataset\n",
    "csv_path = \"Enter your file address\"\n",
    "df = pd.read_csv(csv_path)\n",
    "\n",
    "# Extract year from date column (assuming the column name is 'Date' and format includes year at the end)\n",
    "df[\"Year\"] = df[\"Date\"].astype(str).str[-4:].astype(int)\n",
    "\n",
    "\n",
    "# Remove year 2025\n",
    "df = df[df[\"Year\"] <= 2024]\n",
    "\n",
    "# Get the top 10 journals by publication count\n",
    "top_journals = df[\"Journal\"].value_counts().nlargest(10).index\n",
    "\n",
    "# Filter dataset to include only these top journals\n",
    "df_top = df[df[\"Journal\"].isin(top_journals)]\n",
    "\n",
    "# Count number of publications per year for each journal\n",
    "pub_counts = df_top.groupby([\"Year\", \"Journal\"]).size().unstack(fill_value=0)\n",
    "\n",
    "# Ensure index is sorted and converted to a numeric type\n",
    "pub_counts.index = pd.to_numeric(pub_counts.index, errors='coerce')\n",
    "\n",
    "# Plot the data\n",
    "plt.figure(figsize=(12, 6))\n",
    "for journal in pub_counts.columns:\n",
    "    plt.plot(pub_counts.index.values, pub_counts[journal].values, marker=\"o\", label=journal)\n",
    "\n",
    "\n",
    "year_ticks = list(range(min(pub_counts.index), 2025, 2))  # From min year to 2024 at 3-year intervals\n",
    "plt.xticks(ticks=year_ticks, labels=year_ticks, rotation=90, fontsize=16, fontweight='bold')\n",
    "# Adjust Y-axis ticks at 10% intervals (adjusted for expansion)\n",
    "plt.yticks(ticks=np.arange(0, 220, 20), fontsize=16, fontweight='bold')\n",
    "\n",
    "plt.xlabel(\"Year\", fontsize=20, fontweight='bold')\n",
    "plt.ylabel(\"Number of Publications\", fontsize=20, fontweight='bold')\n",
    "#plt.legend(title=\"Journal\", bbox_to_anchor=(1.05, 1), loc=\"upper left\")\n",
    "legend=plt.legend(title=\"Journal\", title_fontsize=20, loc=\"lower center\", bbox_to_anchor=(0.5, 1.15), ncol=2, frameon=True, prop={'weight': 'bold', 'size': 16})\n",
    "# Manually set title font weight to bold\n",
    "legend.get_title().set_fontweight('bold')\n",
    "plt.grid(axis=\"y\", linestyle=\"--\", alpha=0.7)  # Only horizontal grid lines\n",
    "\n",
    "# Show plot\n",
    "plt.show()"
   ]
  },
  {
   "cell_type": "code",
   "execution_count": null,
   "metadata": {},
   "outputs": [],
   "source": [
    "import pandas as pd\n",
    "import matplotlib.pyplot as plt\n",
    "\n",
    "# Load the dataset\n",
    "csv_path = \"Enter histogram file address\"\n",
    "df = pd.read_csv(csv_path)\n",
    "\n",
    "\n",
    "# Ensure the 'Year' column is numeric\n",
    "# Extract year from date column (assuming the column name is 'Date' and format includes year at the end)\n",
    "df[\"Year\"] = df[\"Date\"].astype(str).str[-4:].astype(int)\n",
    "\n",
    "\n",
    "# Remove year 2025\n",
    "df = df[df[\"Year\"] <= 2024]\n",
    "\n",
    "# Get the top 5 battery clusters based on the number of publications\n",
    "top_battery_types = df[\"Battery_Type\"].value_counts().nlargest(10).index\n",
    "\n",
    "df_top = df[df[\"Battery_Type\"].isin(top_battery_types)]\n",
    "\n",
    "# Count publications per year for each battery type\n",
    "battery_counts = df_top.groupby([\"Year\", \"Battery_Type\"]).size().unstack(fill_value=0)\n",
    "\n",
    "# Ensure index is sorted and converted to a numeric type\n",
    "battery_counts.index = pd.to_numeric(battery_counts.index, errors='coerce')\n",
    "\n",
    "# Plot the data\n",
    "plt.figure(figsize=(12, 6))\n",
    "for battery_type in battery_counts.columns:\n",
    "    plt.plot(battery_counts.index.values, battery_counts[battery_type].values, marker=\"o\", label=battery_type)\n",
    "\n",
    "year_ticks = list(range(min(battery_counts.index), 2025, 2))  # From min year to 2024 at 3-year intervals\n",
    "plt.xticks(ticks=year_ticks, labels=year_ticks, rotation=90,fontsize=16, fontweight='bold')\n",
    "\n",
    "plt.yticks(ticks=np.arange(0, 220, 20), fontsize=16, fontweight='bold')\n",
    "\n",
    "plt.xlabel(\"Year\", fontsize=20, fontweight='bold')\n",
    "plt.ylabel(\"Number of Publications\", fontsize=20, fontweight='bold')\n",
    "\n",
    "# Place legend inside the graph\n",
    "legend=plt.legend(title=\"Battery Types\", title_fontsize=20, loc=\"lower center\", bbox_to_anchor=(0.5, 1.15), ncol=2, frameon=True, prop={'weight': 'bold', 'size': 16})\n",
    "# Manually set title font weight to bold\n",
    "legend.get_title().set_fontweight('bold')\n",
    "plt.grid(axis=\"y\", linestyle=\"--\", alpha=0.7)  # Only horizontal grid lines\n",
    "plt.show()\n"
   ]
  },
  {
   "cell_type": "code",
   "execution_count": null,
   "metadata": {},
   "outputs": [],
   "source": [
    "import pandas as pd\n",
    "import matplotlib.pyplot as plt\n",
    "\n",
    "# Load the dataset\n",
    "csv_path = \"Enter histogram file address\"\n",
    "df = pd.read_csv(csv_path)\n",
    "\n",
    "# Ensure the 'Year' column is numeric\n",
    "df[\"Year\"] = df[\"Date\"].astype(str).str[-4:].astype(int)\n",
    "\n",
    "# Remove year 2025\n",
    "df = df[df[\"Year\"] <= 2024]\n",
    "\n",
    "# Get the total number of publications per year across all battery types\n",
    "total_per_year = df.groupby(\"Year\").size()\n",
    "\n",
    "# Get the top 5 battery clusters based on the number of publications\n",
    "top_battery_types = df[\"Battery_Type\"].value_counts().nlargest(5).index\n",
    "df_top = df[df[\"Battery_Type\"].isin(top_battery_types)]\n",
    "\n",
    "# Count publications per year for each of the top 5 battery types\n",
    "battery_counts = df_top.groupby([\"Year\", \"Battery_Type\"]).size().unstack(fill_value=0)\n",
    "\n",
    "# Convert to percentage of total publications for each year\n",
    "battery_counts = battery_counts.div(total_per_year, axis=0) * 100  # Normalize using total papers per year\n",
    "\n",
    "# Ensure index is sorted\n",
    "battery_counts.index = pd.to_numeric(battery_counts.index, errors='coerce')\n",
    "\n",
    "# Plot the data\n",
    "plt.figure(figsize=(12, 6))\n",
    "for battery_type in battery_counts.columns:\n",
    "    plt.plot(battery_counts.index.values, battery_counts[battery_type].values, \n",
    "             marker=\"o\", label=battery_type)\n",
    "\n",
    "plt.xlabel(\"Year\", fontsize=20, fontweight='bold')\n",
    "plt.ylabel(\"Percentage of Publications (%)\", fontsize=20, fontweight='bold')\n",
    "\n",
    "year_ticks = list(range(min(battery_counts.index), 2025, 2))  # From min year to 2024 at 3-year intervals\n",
    "plt.xticks(ticks=year_ticks, labels=year_ticks, rotation=45, fontsize=16)\n",
    "plt.yticks(fontsize=16)\n",
    "\n",
    "plt.grid(axis=\"y\", linestyle=\"--\", alpha=0.7)  # Only horizontal grid lines\n",
    "\n",
    "# Place legend inside the graph\n",
    "plt.legend(title=\"Battery Types\", title_fontsize=16, fontsize=12, loc=\"center right\", frameon=True,)\n",
    "\n",
    "plt.show()\n"
   ]
  },
  {
   "cell_type": "code",
   "execution_count": null,
   "metadata": {},
   "outputs": [],
   "source": [
    "import matplotlib.pyplot as plt\n",
    "import pandas as pd\n",
    "\n",
    "# Data extracted from the image\n",
    "data = {\n",
    "    \"Recycling Process\": [\n",
    "        \"Pyrolysis-based process\",\n",
    "        \"Hydrometallurgical process\",\n",
    "        \"Hydrometallurgical leaching, roasting\",\n",
    "        \"Pyrolysis gas reduction by lignocellulosic biomass\",\n",
    "        \"Leaching, oxidation and roasting\",\n",
    "        \"Low-temperature leaching (LTL)\",\n",
    "        \"Leaching, precipitation, regeneration\",\n",
    "        \"Mixed acid leaching\",\n",
    "        \"Leaching process\",\n",
    "        \"One-step pyrolysis and reductant-free acid leaching\",\n",
    "        \"Roasting\",\n",
    "        \"SO2 + pressure leaching, solvent extraction\",\n",
    "        \"Low-temperature pyro-metallurgical combined process\",\n",
    "        \"Leaching and precipitation\",\n",
    "        \"PTSA-assisted leaching\"\n",
    "    ],\n",
    "    \"Recovered Output (%)\": [100, 99.995, 99.99, 99.99, 99.99, 99.98, 99.9, 99.8167, 99.7, 99.65, 99.498, 99.48, 99.353, 99.35, 99.333]\n",
    "}\n",
    "\n",
    "# Convert to DataFrame\n",
    "df = pd.DataFrame(data)\n",
    "\n",
    "# Plot settings\n",
    "plt.figure(figsize=(12, 6))\n",
    "plt.barh(df[\"Recycling Process\"], df[\"Recovered Output (%)\"], color=\"green\")\n",
    "\n",
    "# Labels and title\n",
    "plt.ylabel(\"Recycling Processes\", fontsize=20, fontweight=\"bold\")\n",
    "plt.xlabel(\"Recovered Output (%)\", fontsize=20, fontweight=\"bold\")\n",
    "\n",
    "# Formatting x-axis and y-axis labels\n",
    "plt.xticks(ticks=np.arange(0, 102, 2),fontsize=16)\n",
    "plt.yticks(fontsize=16)\n",
    "\n",
    "# Zoom in on x-axis (99% to 100%)\n",
    "plt.xlim(99.3, 100.05)\n",
    "# Custom tick marks at 99.5, 99.6, 99.7, 99.8, 99.9, 100\n",
    "plt.xticks([99.3,99.4,99.5, 99.6, 99.7, 99.8, 99.9, 100], fontsize=16)\n",
    "\n",
    "# Adjust layout for readability\n",
    "plt.gca().invert_yaxis()  # Invert y-axis for better readability\n",
    "plt.grid(axis=\"x\", linestyle=\"--\", alpha=0.7)\n",
    "\n",
    "# Show plot\n",
    "plt.show()\n"
   ]
  },
  {
   "cell_type": "code",
   "execution_count": null,
   "metadata": {},
   "outputs": [],
   "source": [
    "import matplotlib.pyplot as plt\n",
    "import pandas as pd\n",
    "import numpy as np\n",
    "\n",
    "# Data extracted from the image\n",
    "data = {\n",
    "    \"Recycling Process\": [\n",
    "        \"Pyrolysis-based process\",\n",
    "        \"Hydrometallurgical process\",\n",
    "        \"Hydrometallurgical leaching, roasting\",\n",
    "        \"Pyrolysis gas reduction by lignocellulosic biomass\",\n",
    "        \"Leaching, oxidation and roasting\",\n",
    "        \"Low-temperature leaching (LTL)\",\n",
    "        \"Leaching, precipitation, regeneration\",\n",
    "        \"Mixed acid leaching\",\n",
    "        \"Leaching process\",\n",
    "        \"One-step pyrolysis and reductant-free acid leaching\",\n",
    "        \"Roasting\",\n",
    "        \"SO2 + pressure leaching, solvent extraction\",\n",
    "        \"Low-temperature pyro-metallurgical combined process\",\n",
    "        \"Leaching and precipitation\",\n",
    "        \"PTSA-assisted leaching\"\n",
    "    ],\n",
    "    \"Recovered Output (%)\": [100, 99.995, 99.99, 99.99, 99.99, 99.98, 99.9, 99.8167, 99.7, 99.65, 99.498, 99.48, 99.353, 99.35, 99.333]\n",
    "}\n",
    "\n",
    "# Convert to DataFrame\n",
    "df = pd.DataFrame(data)\n",
    "\n",
    "# Plot settings\n",
    "plt.figure(figsize=(14, 6))\n",
    "plt.bar(df[\"Recycling Process\"], df[\"Recovered Output (%)\"], color=\"green\")\n",
    "\n",
    "# Labels and title\n",
    "plt.xlabel(\"Recycling Processes\", fontsize=26, fontweight=\"bold\")\n",
    "plt.ylabel(\"Recovered Output (%)\", fontsize=26, fontweight=\"bold\")\n",
    "\n",
    "# Rotate x-axis labels for better readability\n",
    "plt.xticks(rotation=90, fontweight='bold',fontsize=20)\n",
    "plt.yticks(fontsize=20, fontweight='bold')\n",
    "\n",
    "# Zoom in on y-axis (99% to 100%)\n",
    "plt.ylim(99, 100.05)\n",
    "\n",
    "# Custom tick marks at 99, 99.1, ..., 100\n",
    "plt.yticks(np.arange(99, 100.1, 0.1))\n",
    "\n",
    "# Add grid lines for clarity\n",
    "plt.grid(axis=\"y\", linestyle=\"--\", alpha=0.7)\n",
    "\n",
    "# Show plot\n",
    "plt.show()\n",
    "save_path = \"C:/Users/ASUS/Downloads/Fig8.pdf\"\n",
    "plt.savefig(save_path)\n"
   ]
  }
 ],
 "metadata": {
  "colab": {
   "authorship_tag": "ABX9TyNYBemuDCVW/IymLSbpIrP1",
   "provenance": [
    {
     "file_id": "1DOsbxPkDvl1maKSwi8ZFuQGyuVPHu0rc",
     "timestamp": 1713996729544
    }
   ]
  },
  "kernelspec": {
   "display_name": "Python 3 (ipykernel)",
   "language": "python",
   "name": "python3"
  },
  "language_info": {
   "codemirror_mode": {
    "name": "ipython",
    "version": 3
   },
   "file_extension": ".py",
   "mimetype": "text/x-python",
   "name": "python",
   "nbconvert_exporter": "python",
   "pygments_lexer": "ipython3",
   "version": "3.11.5"
  }
 },
 "nbformat": 4,
 "nbformat_minor": 4
}
