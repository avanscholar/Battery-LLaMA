{
 "cells": [
  {
   "cell_type": "markdown",
   "metadata": {},
   "source": [
    "**Start the Knowledge graph vectorDB in neo4j Desktop**"
   ]
  },
  {
   "cell_type": "code",
   "execution_count": null,
   "metadata": {},
   "outputs": [],
   "source": [
    "import dotenv\n",
    "from dotenv import load_dotenv\n",
    "import os\n",
    "from groq import Groq\n",
    "# from langchain.schema import SystemMessage, HumanMessage\n",
    "from langchain_community.graphs import Neo4jGraph\n",
    "load_dotenv()\n",
    "# Warning control\n",
    "import warnings\n",
    "warnings.filterwarnings(\"ignore\")"
   ]
  },
  {
   "cell_type": "markdown",
   "metadata": {},
   "source": [
    "**Load the LLM**"
   ]
  },
  {
   "cell_type": "code",
   "execution_count": null,
   "metadata": {},
   "outputs": [],
   "source": [
    "api_key = \"Replace with your actual Groq API key\"  \n",
    "client = Groq(api_key=api_key)"
   ]
  },
  {
   "cell_type": "markdown",
   "metadata": {},
   "source": [
    "**Add Neo4j credentials (These information need to be kept secret)**"
   ]
  },
  {
   "cell_type": "code",
   "execution_count": null,
   "metadata": {},
   "outputs": [],
   "source": [
    "NEO4J_URI = \"bolt://localhost:7687\"\n",
    "NEO4J_USERNAME = \"Enter user ID\"\n",
    "NEO4J_PASSWORD = \"Enter password\"\n",
    "NEO4J_DATABASE = 'neo4j'"
   ]
  },
  {
   "cell_type": "code",
   "execution_count": null,
   "metadata": {},
   "outputs": [],
   "source": [
    "\n",
    "graph = Neo4jGraph(url=NEO4J_URI, username=NEO4J_USERNAME, password=NEO4J_PASSWORD, database=NEO4J_DATABASE)"
   ]
  },
  {
   "cell_type": "markdown",
   "metadata": {},
   "source": [
    "**Print the graph database schema**"
   ]
  },
  {
   "cell_type": "code",
   "execution_count": null,
   "metadata": {},
   "outputs": [],
   "source": [
    "graph.refresh_schema()\n",
    "print(graph.schema)"
   ]
  },
  {
   "cell_type": "code",
   "execution_count": null,
   "metadata": {},
   "outputs": [],
   "source": [
    "!pip install --upgrade --quiet  langchain langchain-community langchain-groq neo4j\n",
    "\n",
    "groq_api_key=\"Replace with your actual Groq API key\" "
   ]
  },
  {
   "cell_type": "code",
   "execution_count": null,
   "metadata": {},
   "outputs": [],
   "source": [
    "from langchain_groq import ChatGroq\n",
    "llm=ChatGroq(groq_api_key=groq_api_key,model_name=\"llama-3.1-70b-versatile\")\n",
    "llm\n"
   ]
  },
  {
   "cell_type": "code",
   "execution_count": null,
   "metadata": {},
   "outputs": [],
   "source": [
    "!pip install --upgrade --quiet langchain_experimental\n",
    "from langchain_experimental.graph_transformers import LLMGraphTransformer\n",
    "llm_transformer=LLMGraphTransformer(llm=llm)"
   ]
  },
  {
   "cell_type": "markdown",
   "metadata": {},
   "source": [
    "Questions"
   ]
  },
  {
   "cell_type": "markdown",
   "metadata": {},
   "source": [
    "### **Chain**"
   ]
  },
  {
   "cell_type": "markdown",
   "metadata": {},
   "source": [
    "**`Simple Agent (a)`:**"
   ]
  },
  {
   "cell_type": "code",
   "execution_count": null,
   "metadata": {},
   "outputs": [],
   "source": [
    "from langchain.chains import GraphCypherQAChain\n",
    "\n",
    "chain = GraphCypherQAChain.from_llm(\n",
    "    llm=llm,\n",
    "    graph=graph,\n",
    "    verbose=True,\n",
    "    allow_dangerous_requests=True,  # Acknowledge the risks\n",
    "    validate_cypher=True            # Enable Cypher validation\n",
    ")\n",
    "\n",
    "print(chain)\n"
   ]
  },
  {
   "cell_type": "code",
   "execution_count": null,
   "metadata": {},
   "outputs": [],
   "source": [
    "\n",
    "\n",
    "q_one = \"I want to recycle lithium ion batteries with at least 97.5% Lithium (Li) recovery. What processes can achieve this?\"\n",
    "q_two = \"I want to recycle Lithium-ion batteries with 100% Lithium (Li) recovery. What processes can achieve this?\"\n",
    "q_three = \"I want to recycle Lithium-ion batteries with 95% Nickel (Ni) recovery. Which processes can achieve this in minimum cost?\"\n",
    "\n",
    "response = chain.invoke({\"query\": q_one})\n",
    "# Print intermediate Cypher query for debugging\n",
    "print(\"Generated Cypher Query:\", response.get(\"intermediate_steps\", {}).get(\"cypher_query\", \"No query generated\"))\n",
    "# Handle response and errors\n",
    "if \"result\" in response:\n",
    "    print(\"\\nLLM response:\", response[\"result\"])\n",
    "else:\n",
    "    print(\"\\nError in response:\", response)\n",
    "\n",
    "#print(response)\n",
    "#print(\"\\nLLM response:\", response[\"result\"])"
   ]
  },
  {
   "cell_type": "markdown",
   "metadata": {},
   "source": [
    "### **`Special Agent`**"
   ]
  },
  {
   "cell_type": "code",
   "execution_count": null,
   "metadata": {},
   "outputs": [],
   "source": [
    "import re\n",
    "!pip install rapidfuzz\n",
    "from rapidfuzz import process\n",
    "\n",
    "q_one = \"I want to recycle lithium ion batteries with at least 95% Rare Earth Elements recovery. Which processes can achieve this?\"\n",
    "q_two = \"I want to recycle lithium ion batteries. And I want processes which recovers Indium element as it's expensive material. What processes should I use?\"\n",
    "q_three = \"Can you suggest battery recycling processes which have 100% Cobalt (Co) recovery rate along with the conditions?\"\n",
    "\n",
    "from langchain.chains import GraphCypherQAChain\n",
    "\n",
    "# Function to parse the user query and extract thresholds dynamically\n",
    "\n",
    "# List of possible materials\n",
    "material_list = [\n",
    "    \"Nickel (Ni)\", \"Lithium (Li)\", \"Cobalt (Co)\", \"Copper (Cu)\", \"Zinc (Zn)\", \n",
    "    \"Iron (Fe)\", \"Graphite (C (Graphite))\", \"Indium (In)\", \"Manganese (Mn)\", \n",
    "    \"Aluminium (Al)\", \"Cadmium (Cd)\", \"Phosphorus (P)\", \"Rare Earth Elements (REEs)\"\n",
    "]\n",
    "\n",
    "# Function to extract and normalize material using fuzzy matching\n",
    "def extract_material_with_fuzzy(query):\n",
    "    # Clean the query (to handle abbreviations and case sensitivity)\n",
    "    query_normalized = query.lower()\n",
    "    # Match the query against the material list using fuzzy matching\n",
    "    matched_material, score, index = process.extractOne(query_normalized, material_list)\n",
    "    # You can optionally use 'score' or 'index' if needed, or just return the matched material\n",
    "    return matched_material\n",
    "\n",
    "# Updated extract_threshold_and_material function\n",
    "def extract_threshold_and_material(query):\n",
    "    # Extract the numeric threshold (e.g., \"99.9%\")\n",
    "    threshold_match = re.search(r\"([\\d.]+)\\s*%?\", query, re.IGNORECASE)\n",
    "    threshold = float(threshold_match.group(1)) if threshold_match else 0.0\n",
    "\n",
    "    # Use fuzzy matching to extract the material of interest\n",
    "    material = extract_material_with_fuzzy(query)\n",
    "    \n",
    "    return threshold, material\n",
    "\n",
    "\n",
    "# Function to validate and adjust generated Cypher queries dynamically\n",
    "def validate_cypher_query(cypher_query, threshold, material):\n",
    "    # Dynamically replace the material in the Cypher query\n",
    "    fixed_query = f\"\"\"\n",
    "    MATCH (bt:Battery_Type)-[:Processed_By]->(rpu:Recycling_Process_Used)-[rel:Recovers]->(rm:Recovered_Materials)\n",
    "    MATCH (rpu)-[:Has_Conditions]->(c:Process_Conditions)\n",
    "    WHERE toFloat(rel.efficiency) >= {threshold} AND rm.name = \"{material}\"\n",
    "    RETURN DISTINCT \n",
    "    rpu.name AS Process, \n",
    "    rpu.total_cost AS Cost, \n",
    "    rpu.total_energy AS Energy, \n",
    "    rel.efficiency AS Efficiency,\n",
    "    c.details AS Conditions\n",
    "    \"\"\"\n",
    "    return fixed_query\n",
    "\n",
    "# Extract threshold and material from the user query\n",
    "threshold, material = extract_threshold_and_material(q_three)\n",
    "\n",
    "response = chain.invoke({\"query\": q_three})\n",
    "\n",
    "# Debugging: Validate the generated Cypher query\n",
    "generated_query = response.get(\"intermediate_steps\", {}).get(\"cypher_query\", \"\")\n",
    "print(\"Generated Cypher Query (Before Validation):\", generated_query)\n",
    "\n",
    "# Validate and fix the query\n",
    "fixed_query = validate_cypher_query(generated_query, threshold, material)\n",
    "print(\"Fixed Cypher Query:\", fixed_query)\n",
    "\n",
    "# Execute the fixed query directly\n",
    "if fixed_query:\n",
    "    context = graph.query(fixed_query)\n",
    "    print(\"Query Results:\", context)\n",
    "else:\n",
    "    print(\"\\nError: No query generated or fixed query is empty.\")\n",
    "\n"
   ]
  },
  {
   "cell_type": "code",
   "execution_count": null,
   "metadata": {},
   "outputs": [],
   "source": [
    "from langchain.chains import GraphCypherQAChain\n",
    "\n",
    "# Function to format query results into context\n",
    "def format_query_results(results):\n",
    "    if results:\n",
    "        formatted_context = \"The following recycling processes meet the specified criteria:\\n\\n\"\n",
    "        for result in results:\n",
    "            process = result.get(\"Process\", \"N/A\")\n",
    "            efficiency = result.get(\"Efficiency\", \"N/A\")\n",
    "            Conditions = result.get(\"Conditions\", \"N/A\")\n",
    "            cost = result.get(\"Cost\", \"N/A\")\n",
    "            energy = result.get(\"Energy\", \"N/A\")\n",
    "\n",
    "            formatted_context += (\n",
    "                f\"  - Process: {process}\\n\"\n",
    "                f\"  - Efficiency: {efficiency}%\\n\"\n",
    "                f\"  - Conditions: {Conditions}\\n\"\n",
    "                f\"  - Total Cost: ${cost}\\n\"\n",
    "                f\"  - Total Energy: {energy} J\\n\\n\"\n",
    "            )\n",
    "    else:\n",
    "        formatted_context = \"No processes meet the specified criteria.\"\n",
    "    \n",
    "    return formatted_context\n",
    "\n",
    "# Format query results\n",
    "formatted_context = format_query_results(context)\n",
    "print(\"Formatted Context:\", formatted_context)\n",
    "\n"
   ]
  },
  {
   "cell_type": "code",
   "execution_count": null,
   "metadata": {},
   "outputs": [],
   "source": [
    "response = chain.invoke(formatted_context)\n",
    "print(response)  # Output: \"I'd be happy to help with that query.\""
   ]
  },
  {
   "cell_type": "code",
   "execution_count": null,
   "metadata": {},
   "outputs": [],
   "source": [
    "response = chain.invoke({\"query\": q_two})\n",
    "print(response)\n",
    "print(\"\\nLLM response:\", response[\"result\"])"
   ]
  },
  {
   "cell_type": "code",
   "execution_count": null,
   "metadata": {},
   "outputs": [],
   "source": [
    "q_three = \"I want to recycle batteries in minimum cost, so which process should I use? And what are the conditions for that process\""
   ]
  },
  {
   "cell_type": "code",
   "execution_count": null,
   "metadata": {},
   "outputs": [],
   "source": [
    "response = chain.invoke({\"query\": q_three})\n",
    "print(response)\n",
    "print(\"\\nLLM response:\", response[\"result\"])"
   ]
  },
  {
   "cell_type": "code",
   "execution_count": null,
   "metadata": {},
   "outputs": [],
   "source": [
    "q_four = \"I want to recycle batteries in minimum energy requirement, so which process should I use? And what are the conditions for that process\""
   ]
  },
  {
   "cell_type": "code",
   "execution_count": null,
   "metadata": {},
   "outputs": [],
   "source": [
    "response = chain.invoke({\"query\": q_four})\n",
    "print(response)\n",
    "print(\"\\nLLM response:\", response[\"result\"])"
   ]
  },
  {
   "cell_type": "code",
   "execution_count": null,
   "metadata": {},
   "outputs": [],
   "source": [
    "q_five = \"I want to recycle batteries. And I want processes which recovers Indium (In) element as it's an expensive material. What processes & conditions should I use?\""
   ]
  },
  {
   "cell_type": "code",
   "execution_count": null,
   "metadata": {},
   "outputs": [],
   "source": [
    "response = chain.invoke({\"query\": q_five})\n",
    "print(response)\n",
    "print(\"\\nLLM response:\", response[\"result\"])"
   ]
  },
  {
   "cell_type": "code",
   "execution_count": null,
   "metadata": {},
   "outputs": [],
   "source": [
    "q_six = \"I want to recycle batteries. And I want processes which can recover Lithium (Li), Cobalt (Co) & Manganeses (Mn) with minimum cost. What processes should I use & it's recovery rate with process conditions?\""
   ]
  },
  {
   "cell_type": "code",
   "execution_count": null,
   "metadata": {},
   "outputs": [],
   "source": [
    "response = chain.invoke({\"query\": q_six})\n",
    "print(response)\n",
    "print(\"\\nLLM response:\", response[\"result\"])"
   ]
  },
  {
   "cell_type": "code",
   "execution_count": null,
   "metadata": {},
   "outputs": [],
   "source": [
    "q_seven = \"Can you suggest battery recycling processes which recovers Cobalt (Co) & Lithium (Li) which has minimum energy requirement along with the process conditions & recovery rates?\""
   ]
  },
  {
   "cell_type": "code",
   "execution_count": null,
   "metadata": {},
   "outputs": [],
   "source": [
    "response = chain.invoke({\"query\": q_seven})\n",
    "print(response)\n",
    "print(\"\\nLLM response:\", response[\"result\"])"
   ]
  }
 ],
 "metadata": {
  "kernelspec": {
   "display_name": "Python 3 (ipykernel)",
   "language": "python",
   "name": "python3"
  },
  "language_info": {
   "codemirror_mode": {
    "name": "ipython",
    "version": 3
   },
   "file_extension": ".py",
   "mimetype": "text/x-python",
   "name": "python",
   "nbconvert_exporter": "python",
   "pygments_lexer": "ipython3",
   "version": "3.11.5"
  }
 },
 "nbformat": 4,
 "nbformat_minor": 4
}
