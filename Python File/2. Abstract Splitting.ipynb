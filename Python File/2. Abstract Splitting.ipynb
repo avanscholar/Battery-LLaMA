{
 "cells": [
  {
   "cell_type": "markdown",
   "metadata": {},
   "source": [
    "**Import libraries**"
   ]
  },
  {
   "cell_type": "code",
   "execution_count": null,
   "metadata": {},
   "outputs": [],
   "source": [
    "!pip install nltk\n",
    "import nltk\n",
    "import pandas as pd\n",
    "from nltk.tokenize import sent_tokenize\n",
    "\n",
    "# Download the punkt tokenizer if not already present\n",
    "nltk.download('punkt')\n",
    "\n",
    "# Define the sentence splitting function\n",
    "def split_into_columns(text):\n",
    "    sentences = nltk.tokenize.sent_tokenize(text)\n",
    "    return sentences\n",
    "\n",
    "# Read the input CSV file\n",
    "input_file_path = 'Enter your mastersheets address'\n",
    "data = pd.read_csv(input_file_path)\n",
    "\n",
    "# Initialize variables for storing split data\n",
    "split_data = []\n",
    "max_columns = 0\n",
    "\n",
    "# Process each row to split abstracts into sentences\n",
    "for _, row in data.iterrows():\n",
    "    abstract_sentences = split_into_columns(row['Abstract'])\n",
    "    split_data.append([row['Abstract Number']] + abstract_sentences)\n",
    "    max_columns = max(max_columns, len(abstract_sentences))\n",
    "\n",
    "# Dynamically create column names for all possible columns\n",
    "columns = ['Abstract Number'] + [f\"Column_{i}\" for i in range(1, max_columns + 1)]\n",
    "\n",
    "# Pad rows with fewer sentences to match the longest row\n",
    "for row in split_data:\n",
    "    row.extend([''] * (max_columns + 1 - len(row)))  # Ensure all rows have the same length\n",
    "\n",
    "# Create a new DataFrame with dynamically expanded columns\n",
    "processed_data = pd.DataFrame(split_data, columns=columns)\n",
    "\n",
    "# Save the result to a new CSV file\n",
    "output_file_path = 'C:/Users/ASUS/Downloads/Split_Abstracts.csv'\n",
    "processed_data.to_csv(output_file_path, index=False)\n",
    "\n",
    "print(f\"Data successfully processed and saved to {output_file_path}.\")"
   ]
  }
 ],
 "metadata": {
  "kernelspec": {
   "display_name": "Python 3 (ipykernel)",
   "language": "python",
   "name": "python3"
  },
  "language_info": {
   "codemirror_mode": {
    "name": "ipython",
    "version": 3
   },
   "file_extension": ".py",
   "mimetype": "text/x-python",
   "name": "python",
   "nbconvert_exporter": "python",
   "pygments_lexer": "ipython3",
   "version": "3.11.5"
  }
 },
 "nbformat": 4,
 "nbformat_minor": 4
}
