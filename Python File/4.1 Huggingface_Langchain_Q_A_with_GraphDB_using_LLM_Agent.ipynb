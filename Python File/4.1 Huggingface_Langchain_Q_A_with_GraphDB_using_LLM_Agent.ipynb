{
 "cells": [
  {
   "cell_type": "markdown",
   "metadata": {},
   "source": [
    "**Start the Knowledge graph vectorDB in neo4j Desktop**"
   ]
  },
  {
   "cell_type": "code",
   "execution_count": null,
   "metadata": {},
   "outputs": [],
   "source": [
    "import dotenv\n",
    "from dotenv import load_dotenv\n",
    "import os\n",
    "from groq import Groq\n",
    "# from langchain.schema import SystemMessage, HumanMessage\n",
    "from langchain_community.graphs import Neo4jGraph\n",
    "load_dotenv()\n",
    "# Warning control\n",
    "import warnings\n",
    "warnings.filterwarnings(\"ignore\")"
   ]
  },
  {
   "cell_type": "markdown",
   "metadata": {},
   "source": [
    "**Add Neo4j credentials (These information need to be kept secret)**"
   ]
  },
  {
   "cell_type": "code",
   "execution_count": null,
   "metadata": {},
   "outputs": [],
   "source": [
    "NEO4J_URI = \"bolt://localhost:7687\"\n",
    "NEO4J_USERNAME = \"Enter user ID\"\n",
    "NEO4J_PASSWORD = \"Enter password\"\n",
    "NEO4J_DATABASE = 'neo4j'"
   ]
  },
  {
   "cell_type": "code",
   "execution_count": null,
   "metadata": {},
   "outputs": [],
   "source": [
    "graph = Neo4jGraph(url=NEO4J_URI, username=NEO4J_USERNAME, password=NEO4J_PASSWORD, database=NEO4J_DATABASE)"
   ]
  },
  {
   "cell_type": "markdown",
   "metadata": {},
   "source": [
    "**Print the graph database schema**"
   ]
  },
  {
   "cell_type": "code",
   "execution_count": null,
   "metadata": {},
   "outputs": [],
   "source": [
    "graph.refresh_schema()\n",
    "print(graph.schema)"
   ]
  },
  {
   "cell_type": "code",
   "execution_count": null,
   "metadata": {},
   "outputs": [],
   "source": [
    "!pip install huggingface_hub\n",
    "!pip install requests\n",
    "import requests\n",
    "import json\n"
   ]
  },
  {
   "cell_type": "markdown",
   "metadata": {},
   "source": [
    "### **Testing the endpoint**"
   ]
  },
  {
   "cell_type": "code",
   "execution_count": null,
   "metadata": {},
   "outputs": [],
   "source": [
    "from langchain_core.prompt_values import StringPromptValue\n",
    "# Define the Hugging Face Inference Endpoint URL and API token\n",
    "endpoint_url = \"Replace with your endpoint URL\"\n",
    "api_token = \"Enter your token\"\n",
    "\n",
    "# Function to query the Hugging Face Inference Endpoint\n",
    "def query_huggingface_endpoint(query):\n",
    "    \"\"\"#+\n",
    "    This function sends a query to a Hugging Face Inference Endpoint and returns the response.#+\n",
    "#+\n",
    "    Parameters:#+\n",
    "    query (str or StringPromptValue): The query to be sent to the Hugging Face Inference Endpoint.#+\n",
    "        If the query is an instance of StringPromptValue, it will be serialized to JSON.#+\n",
    "#+\n",
    "    Returns:#+\n",
    "    dict: The response from the Hugging Face Inference Endpoint in JSON format.#+\n",
    "        If the HTTP request fails, an exception will be raised with the error details.#+\n",
    "    \"\"\"#+\n",
    "    if isinstance(query, StringPromptValue):\n",
    "        query = query.json()  # Serialize to JSON if it's a StringPromptValue\n",
    "\n",
    "    headers = {\n",
    "        \"Authorization\": f\"Bearer {api_token}\",\n",
    "        \"Content-Type\": \"application/json\"\n",
    "    }\n",
    "    payload = {\"inputs\": query}\n",
    "\n",
    "    # Make the HTTP request\n",
    "    response = requests.post(endpoint_url, headers=headers, json=payload)\n",
    "    if response.status_code == 200:\n",
    "        return response.json()\n",
    "    else:\n",
    "        raise Exception(f\"Error {response.status_code}: {response.text}\")\n",
    ">>>>>>> Tabnine >>>>>>># {\"conversationId\":\"2da7cedf-b9dd-4899-83fa-5842450ef32d\",\"source\":\"instruct\"}\n",
    "\n",
    "# Test the endpoint with a sample query\n",
    "q_one = \"I want to recycle lithium ion batteries with at least 97.5% Lithium (Li) recovery. What processes can achieve this?\"\n",
    "response = query_huggingface_endpoint(q_one)\n",
    "\n",
    "# Handle and print the response\n",
    "if response:\n",
    "    print(\"LLM Response:\", response)\n",
    "else:\n",
    "    print(\"No response received.\")\n"
   ]
  },
  {
   "cell_type": "markdown",
   "metadata": {},
   "source": [
    "### **Chain**"
   ]
  },
  {
   "cell_type": "markdown",
   "metadata": {},
   "source": [
    "**`Simple Agent (a)`:**"
   ]
  },
  {
   "cell_type": "markdown",
   "metadata": {},
   "source": [
    "### **Method 1: Final working chain**"
   ]
  },
  {
   "cell_type": "code",
   "execution_count": null,
   "metadata": {},
   "outputs": [],
   "source": [
    "from langchain.chains import GraphCypherQAChain\n",
    "from langchain.llms import HuggingFaceEndpoint\n",
    "from langchain.prompts import PromptTemplate\n",
    "\n",
    "# Replace with your Hugging Face inference endpoint details\n",
    "endpoint_url = \"Replace with your endpoint URL\"\n",
    "api_token = \"Enter your token\"\n",
    "\n",
    "\n",
    "# Define the Hugging Face LLM with headers in model_kwargs\n",
    "hf_llm = HuggingFaceEndpoint(\n",
    "    endpoint_url=HUGGINGFACE_API_URL,\n",
    "    model_kwargs={\"headers\": {\"Authorization\": f\"Bearer {HUGGINGFACE_TOKEN}\"}}\n",
    ")\n",
    "\n",
    "# Create the Cypher chain with the custom prompt\n",
    "cypher_chain = GraphCypherQAChain.from_llm(\n",
    "    cypher_llm=hf_llm,\n",
    "    qa_llm=hf_llm,\n",
    "    graph=graph,\n",
    "    verbose=True,\n",
    "    allow_dangerous_requests=True,\n",
    "    return_intermediate_steps=True\n",
    ")\n"
   ]
  },
  {
   "cell_type": "code",
   "execution_count": null,
   "metadata": {},
   "outputs": [],
   "source": [
    "# Test the chain\n",
    "q_one = \"I want to recycle lithium-ion batteries with at least 97.5% Lithium (Li) recovery, suggest which processes can achieve this?\"\n",
    "response = cypher_chain.invoke({\"query\": q_one})\n",
    "\n",
    "# Log and debug output\n",
    "print(\"Generated Cypher Query:\", response.get(\"generated_cypher\", \"No Cypher query generated\"))\n",
    "print(\"Response:\", response.get(\"result\", \"No result returned\"))\n"
   ]
  },
  {
   "cell_type": "markdown",
   "metadata": {},
   "source": [
    "### **Testing queries**"
   ]
  },
  {
   "cell_type": "code",
   "execution_count": null,
   "metadata": {},
   "outputs": [],
   "source": [
    "import re\n",
    "\n",
    "# Helper function to clean and reformat the generated Cypher query\n",
    "def clean_cypher_query(llm_output):\n",
    "    # Use regex to find the first occurrence of the \"MATCH\" keyword and capture the query\n",
    "    match = re.search(r\"(MATCH.*)\", llm_output, re.DOTALL)\n",
    "    if match:\n",
    "        cleaned_query = match.group(1).strip()  # Extract the query starting from \"MATCH\"\n",
    "        return f\"cypher\\n{cleaned_query}\"  # Add \"cypher\" as required\n",
    "    else:\n",
    "        return \"Invalid Cypher query: 'MATCH' keyword not found.\"\n",
    "\n",
    "q_one = \"I want to recycle lithium ion batteries with at least 97.5% Lithium (Li) recovery. What processes can achieve this?\"\n",
    "q_two = \"I want to recycle Lithium-ion batteries with 100% Lithium (Li) recovery. What processes can achieve this?\"\n",
    "q_three = \"I want to recycle Lithium-ion batteries with 95% Nickel (Ni) recovery. Which processes can achieve this in minimum cost?\"\n",
    "q_four = \"I want to recycle lithium ion batteries and I want processes which recovers Indium element as it's expensive material, so which processes should I use?\"\n",
    "\n",
    "response = cypher_chain.invoke({\"query\": q_four})\n",
    "#2.#response = chain._call({\"query\": q_one})\n",
    "#3.#response = chain.invoke({\"query\": q_one}, callbacks=None)\n",
    "\n",
    "#4.#from langchain_core.runnables.config import RunnableConfig\n",
    "#config = RunnableConfig()\n",
    "#response = chain.invoke({\"query\": q_one}, config=config)\n",
    "\n",
    "#5.#response = chain.run(q_one)\n",
    "# Clean and reformat the generated Cypher query\n",
    "raw_cypher_query = response.get(\"generated_cypher\", \"No Cypher query generated\")\n",
    "cleaned_cypher_query = clean_cypher_query(raw_cypher_query)\n",
    "\n",
    "# Print the results\n",
    "print(\"Generated Cypher Query (Cleaned):\", cleaned_cypher_query)\n",
    "print(\"Response:\", response.get(\"result\", \"No result returned\"))\n",
    "\n",
    "# If valid, execute the query\n",
    "if cleaned_cypher_query.startswith(\"cypher\\nMATCH\"):\n",
    "    result = graph.query(cleaned_cypher_query.split(\"\\n\", 1)[1])  # Send only the query part to Neo4j\n",
    "    print(\"Query Result:\", result)\n",
    "else:\n",
    "    print(\"Invalid or improperly formatted query:\", cleaned_cypher_query)\n"
   ]
  },
  {
   "cell_type": "code",
   "execution_count": null,
   "metadata": {},
   "outputs": [],
   "source": [
    "\n",
    "\n",
    "response = cypher_chain.invoke({\"query\": q_two})\n",
    "#print(response)\n",
    "#print(\"\\nLLM response:\", response[\"result\"])\n",
    "\n",
    "# Log and debug output\n",
    "print(\"Generated Cypher Query:\", response.get(\"generated_cypher\", \"No Cypher query generated\"))\n",
    "print(\"Response:\", response.get(\"result\", \"No result returned\"))"
   ]
  },
  {
   "cell_type": "code",
   "execution_count": null,
   "metadata": {},
   "outputs": [],
   "source": [
    "q_three = \"which process should I use to recycle Lithium Ion batteries in minimum cost? And what are the conditions for that process\"\n",
    "\n",
    "response = cypher_chain.invoke({\"query\": q_three})\n",
    "#print(response)\n",
    "#print(\"\\nLLM response:\", response[\"result\"])\n",
    "\n",
    "print(\"Generated Cypher Query:\", response.get(\"generated_cypher\", \"No Cypher query generated\"))\n",
    "print(\"Response:\", response.get(\"result\", \"No result returned\"))"
   ]
  },
  {
   "cell_type": "code",
   "execution_count": null,
   "metadata": {},
   "outputs": [],
   "source": [
    "q_four = \"I want to recycle lithium ion batteries in minimum energy requirement, so which process should I use? And what are the conditions for that process\"\n",
    "\n",
    "response = cypher_chain.invoke({\"query\": q_four})\n",
    "#print(response)\n",
    "#print(\"\\nLLM response:\", response[\"result\"])\n",
    "\n",
    "print(\"Generated Cypher Query:\", response.get(\"generated_cypher\", \"No Cypher query generated\"))\n",
    "print(\"Response:\", response.get(\"result\", \"No result returned\"))"
   ]
  },
  {
   "cell_type": "code",
   "execution_count": null,
   "metadata": {},
   "outputs": [],
   "source": [
    "q_five = \"I want to recycle batteries. And I want processes which recovers Indium (In) element as it's an expensive material. What processes & conditions should I use?\"\n",
    "\n",
    "response = chain.invoke({\"query\": q_five})\n",
    "#print(response)\n",
    "#print(\"\\nLLM response:\", response[\"result\"])\n",
    "\n",
    "print(\"Generated Cypher Query:\", response.get(\"generated_cypher\", \"No Cypher query generated\"))\n",
    "print(\"Response:\", response.get(\"result\", \"No result returned\"))"
   ]
  },
  {
   "cell_type": "code",
   "execution_count": null,
   "metadata": {},
   "outputs": [],
   "source": [
    "q_six = \"I want to recycle batteries. And I want processes which can recover Lithium (Li), Cobalt (Co) & Manganeses (Mn) with minimum cost. What processes should I use & it's recovery rate with process conditions?\"\n",
    "\n",
    "response = chain.invoke({\"query\": q_six})\n",
    "#print(response)\n",
    "#print(\"\\nLLM response:\", response[\"result\"])\n",
    "\n",
    "print(\"Generated Cypher Query:\", response.get(\"generated_cypher\", \"No Cypher query generated\"))\n",
    "print(\"Response:\", response.get(\"result\", \"No result returned\"))"
   ]
  },
  {
   "cell_type": "code",
   "execution_count": null,
   "metadata": {},
   "outputs": [],
   "source": [
    "q_seven = \"Can you suggest battery recycling processes which recovers Cobalt (Co) & Lithium (Li) which has minimum energy requirement along with the process conditions & recovery rates?\"\n",
    "\n",
    "response = chain.invoke({\"query\": q_seven})\n",
    "#print(response)\n",
    "#print(\"\\nLLM response:\", response[\"result\"])\n",
    "\n",
    "print(\"Generated Cypher Query:\", response.get(\"generated_cypher\", \"No Cypher query generated\"))\n",
    "print(\"Response:\", response.get(\"result\", \"No result returned\"))"
   ]
  },
  {
   "cell_type": "markdown",
   "metadata": {},
   "source": [
    "### **`Special Agent`**"
   ]
  },
  {
   "cell_type": "code",
   "execution_count": null,
   "metadata": {},
   "outputs": [],
   "source": [
    "import re\n",
    "!pip install rapidfuzz\n",
    "from rapidfuzz import process\n",
    "\n",
    "q_one = \"I want to recycle lithium ion batteries with at least 95% Rare Earth Elements recovery. Which processes can achieve this?\"\n",
    "q_two = \"I want to recycle lithium ion batteries. And I want processes which recovers Indium element as it's expensive material. What processes should I use?\"\n",
    "q_three = \"Can you suggest battery recycling processes which have 100% Cobalt (Co) recovery rate along with the conditions?\"\n",
    "\n",
    "from langchain.chains import GraphCypherQAChain\n",
    "\n",
    "# Function to parse the user query and extract thresholds dynamically\n",
    "\n",
    "# List of possible materials\n",
    "material_list = [\n",
    "    \"Nickel (Ni)\", \"Lithium (Li)\", \"Cobalt (Co)\", \"Copper (Cu)\", \"Zinc (Zn)\", \n",
    "    \"Iron (Fe)\", \"Graphite (C (Graphite))\", \"Indium (In)\", \"Manganese (Mn)\", \n",
    "    \"Aluminium (Al)\", \"Cadmium (Cd)\", \"Phosphorus (P)\", \"Rare Earth Elements (REEs)\"\n",
    "]\n",
    "\n",
    "# Function to extract and normalize material using fuzzy matching\n",
    "def extract_material_with_fuzzy(query):\n",
    "    # Clean the query (to handle abbreviations and case sensitivity)\n",
    "    query_normalized = query.lower()\n",
    "    # Match the query against the material list using fuzzy matching\n",
    "    matched_material, score, index = process.extractOne(query_normalized, material_list)\n",
    "    # You can optionally use 'score' or 'index' if needed, or just return the matched material\n",
    "    return matched_material\n",
    "\n",
    "# Updated extract_threshold_and_material function\n",
    "def extract_threshold_and_material(query):\n",
    "    # Extract the numeric threshold (e.g., \"99.9%\")\n",
    "    threshold_match = re.search(r\"([\\d.]+)\\s*%?\", query, re.IGNORECASE)\n",
    "    threshold = float(threshold_match.group(1)) if threshold_match else 0.0\n",
    "\n",
    "    # Use fuzzy matching to extract the material of interest\n",
    "    material = extract_material_with_fuzzy(query)\n",
    "    \n",
    "    return threshold, material\n",
    "\n",
    "\n",
    "# Function to validate and adjust generated Cypher queries dynamically\n",
    "def validate_cypher_query(cypher_query, threshold, material):\n",
    "    # Dynamically replace the material in the Cypher query\n",
    "    fixed_query = f\"\"\"\n",
    "    MATCH (bt:Battery_Type)-[:Processed_By]->(rpu:Recycling_Process_Used)-[rel:Recovers]->(rm:Recovered_Materials)\n",
    "    MATCH (rpu)-[:Has_Conditions]->(c:Process_Conditions)\n",
    "    WHERE toFloat(rel.efficiency) >= {threshold} AND rm.name = \"{material}\"\n",
    "    RETURN DISTINCT \n",
    "    rpu.name AS Process, \n",
    "    rpu.total_cost AS Cost, \n",
    "    rpu.total_energy AS Energy, \n",
    "    rel.efficiency AS Efficiency,\n",
    "    c.details AS Conditions\n",
    "    \"\"\"\n",
    "    return fixed_query\n",
    "\n",
    "# Extract threshold and material from the user query\n",
    "threshold, material = extract_threshold_and_material(q_three)\n",
    "\n",
    "response = cypher_chain.invoke({\"query\": q_three})\n",
    "\n",
    "# Debugging: Validate the generated Cypher query\n",
    "generated_query = response.get(\"intermediate_steps\", {})\n",
    "print(\"Generated Cypher Query (Before Validation):\", generated_query)\n",
    "\n",
    "# Validate and fix the query\n",
    "fixed_query = validate_cypher_query(generated_query, threshold, material)\n",
    "print(\"Fixed Cypher Query:\", fixed_query)\n",
    "\n",
    "# Execute the fixed query directly\n",
    "if fixed_query:\n",
    "    context = graph.query(fixed_query)\n",
    "    print(\"Query Results:\", context)\n",
    "else:\n",
    "    print(\"\\nError: No query generated or fixed query is empty.\")\n",
    "\n"
   ]
  },
  {
   "cell_type": "code",
   "execution_count": null,
   "metadata": {},
   "outputs": [],
   "source": [
    "from langchain.chains import GraphCypherQAChain\n",
    "\n",
    "# Function to format query results into context\n",
    "def format_query_results(results):\n",
    "    if results:\n",
    "        formatted_context = \"The following recycling processes meet the specified criteria:\\n\\n\"\n",
    "        for result in results:\n",
    "            process = result.get(\"Process\", \"N/A\")\n",
    "            efficiency = result.get(\"Efficiency\", \"N/A\")\n",
    "            Conditions = result.get(\"Conditions\", \"N/A\")\n",
    "            cost = result.get(\"Cost\", \"N/A\")\n",
    "            energy = result.get(\"Energy\", \"N/A\")\n",
    "\n",
    "            formatted_context += (\n",
    "                f\"  - Process: {process}\\n\"\n",
    "                f\"  - Efficiency: {efficiency}%\\n\"\n",
    "                f\"  - Conditions: {Conditions}\\n\"\n",
    "                f\"  - Total Cost: ${cost}\\n\"\n",
    "                f\"  - Total Energy: {energy} J\\n\\n\"\n",
    "            )\n",
    "    else:\n",
    "        formatted_context = \"No processes meet the specified criteria.\"\n",
    "    \n",
    "    return formatted_context\n",
    "\n",
    "# Format query results\n",
    "formatted_context = format_query_results(context)\n",
    "print(\"Formatted Context:\", formatted_context)\n",
    "\n"
   ]
  }
 ],
 "metadata": {
  "kernelspec": {
   "display_name": "Python 3 (ipykernel)",
   "language": "python",
   "name": "python3"
  },
  "language_info": {
   "codemirror_mode": {
    "name": "ipython",
    "version": 3
   },
   "file_extension": ".py",
   "mimetype": "text/x-python",
   "name": "python",
   "nbconvert_exporter": "python",
   "pygments_lexer": "ipython3",
   "version": "3.11.5"
  }
 },
 "nbformat": 4,
 "nbformat_minor": 4
}
