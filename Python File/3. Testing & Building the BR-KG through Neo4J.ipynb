{
 "cells": [
  {
   "cell_type": "code",
   "execution_count": null,
   "metadata": {},
   "outputs": [],
   "source": [
    "from langchain_community.graphs import Neo4jGraph\n",
    "# from neo4j.debug import watch\n",
    "import pandas as pd\n",
    "!pip install pyprojroot\n",
    "from pyprojroot import here\n",
    "!pip install neo4j\n",
    "# watch(\"neo4j\")"
   ]
  },
  {
   "cell_type": "markdown",
   "metadata": {},
   "source": [
    "**Keep the following info as secret keys or in environment variables**"
   ]
  },
  {
   "cell_type": "code",
   "execution_count": null,
   "metadata": {},
   "outputs": [],
   "source": [
    "NEO4J_URL = \"bolt://localhost:7687\"\n",
    "NEO4J_USERNAME = \"Enter user ID\"\n",
    "NEO4J_PASSWORD = \"Enter password\"\n",
    "NEO4J_DATABASE = 'neo4j'"
   ]
  },
  {
   "cell_type": "markdown",
   "metadata": {},
   "source": [
    "**Load an instance of the Graph DB**"
   ]
  },
  {
   "cell_type": "code",
   "execution_count": null,
   "metadata": {},
   "outputs": [],
   "source": [
    "graph = Neo4jGraph(url=NEO4J_URL, username=NEO4J_USERNAME, password=NEO4J_PASSWORD, database=NEO4J_DATABASE)"
   ]
  },
  {
   "cell_type": "markdown",
   "metadata": {},
   "source": [
    "**To load the data withing cypher query:**\n",
    "\n",
    "--------------------\n",
    "- NOTE: Uncomment `dbms.security.allow_csv_import_from_file_urls=true` in `neo4j.conf` to be able to load the file locally.\n",
    "- NOTE: Absolute path + no space for the file directory.\n",
    "--------------------"
   ]
  },
  {
   "cell_type": "markdown",
   "metadata": {},
   "source": [
    "**Loading the data for test:**"
   ]
  },
  {
   "cell_type": "code",
   "execution_count": null,
   "metadata": {},
   "outputs": [],
   "source": [
    "battery_csv_path = here(\"Enter your mastersheet\")\n",
    "print(pd.read_csv(battery_csv_path).columns)\n",
    "print(\"DAta shape:\", pd.read_csv(battery_csv_path).shape)"
   ]
  },
  {
   "cell_type": "code",
   "execution_count": null,
   "metadata": {},
   "outputs": [],
   "source": [
    "pd.read_csv(battery_csv_path).head(3)"
   ]
  },
  {
   "cell_type": "markdown",
   "metadata": {},
   "source": [
    "**Import movie information from the CSV file with tagline, construct the knowledge graph, and store the data in the Graph database**"
   ]
  },
  {
   "cell_type": "code",
   "execution_count": null,
   "metadata": {},
   "outputs": [],
   "source": [
    "#Run this cell if you are modifying any connections or data of the BR-KG\n",
    "graph.query(\"\"\"\n",
    "MATCH (n)\n",
    "DETACH DELETE n\n",
    "\"\"\")"
   ]
  },
  {
   "cell_type": "code",
   "execution_count": null,
   "metadata": {},
   "outputs": [],
   "source": [
    "\n",
    "battery_csv_path = f\"Enter your mastersheet\"  # Add the file:// prefix\n",
    "\n",
    "# Now use this path in your query\n",
    "graph.query(\"\"\"\n",
    "LOAD CSV WITH HEADERS FROM $battery_recycling_directory AS row\n",
    "\n",
    "// Create Battery_Type nodes\n",
    "MERGE (b:Battery_Type {DOI: row.DOI})\n",
    "SET b.abstract_number = row.`Abstract Number`,\n",
    "    b.title = row.Title,\n",
    "    b.abstract = row.Abstract,\n",
    "    b.name = row.Battery_Type\n",
    "\n",
    "// Create Recycling_Process_Used nodes and Processed_By relationships\n",
    "MERGE (p:Recycling_Process_Used {DOI: row.DOI})\n",
    "SET p.name = row.Recycling_Process_Used,\n",
    "    p.total_cost = toFloat(row.`Total Cost Approx. ($)`),\n",
    "    p.total_energy = toFloat(row.`Total Energy Approx. (J)`),\n",
    "    p.abstract = row.Abstract\n",
    "MERGE (b)-[:Processed_By]->(p)\n",
    "\n",
    "// Create Recovered Materials nodes and Recovers relationships with efficiencies\n",
    "FOREACH (material IN split(row.`Recovered Materials`, '|') |\n",
    "    MERGE (rm:Recovered_Materials {name: trim(material)})\n",
    "    FOREACH (efficiency IN split(row.Efficiencies, '|') |\n",
    "        MERGE (p)-[:Recovers {efficiency: toFloat(trim(efficiency))}]->(rm))\n",
    ")\n",
    "\n",
    "// Create Process_Conditions/Battery_Properties nodes and Has_Conditions relationships\n",
    "MERGE (c:Process_Conditions {details: trim(row.`Process_Conditions/Battery_Properties`)})\n",
    "MERGE (p)-[:Has_Conditions]->(c)\n",
    "\n",
    "// Create Reused relationships\n",
    "FOREACH (material IN split(row.`Recovered Materials`, '|') |\n",
    "    MERGE (rm:Recovered_Materials {name: trim(material)})\n",
    "    MERGE (rm)-[:Reused]->(b))\n",
    "\"\"\",\n",
    "params={\"battery_recycling_directory\": battery_csv_path})"
   ]
  },
  {
   "cell_type": "markdown",
   "metadata": {},
   "source": [
    "**Print the graph database schema and verify the knowledge graph**"
   ]
  },
  {
   "cell_type": "code",
   "execution_count": null,
   "metadata": {},
   "outputs": [],
   "source": [
    "graph.refresh_schema()\n",
    "print(graph.schema)"
   ]
  }
 ],
 "metadata": {
  "kernelspec": {
   "display_name": "Python 3 (ipykernel)",
   "language": "python",
   "name": "python3"
  },
  "language_info": {
   "codemirror_mode": {
    "name": "ipython",
    "version": 3
   },
   "file_extension": ".py",
   "mimetype": "text/x-python",
   "name": "python",
   "nbconvert_exporter": "python",
   "pygments_lexer": "ipython3",
   "version": "3.11.5"
  }
 },
 "nbformat": 4,
 "nbformat_minor": 4
}
